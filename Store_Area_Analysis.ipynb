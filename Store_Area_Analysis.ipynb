{
  "nbformat": 4,
  "nbformat_minor": 0,
  "metadata": {
    "colab": {
      "name": "Store Area Analysis.ipynb",
      "provenance": [],
      "collapsed_sections": [],
      "toc_visible": true
    },
    "kernelspec": {
      "name": "python3",
      "display_name": "Python 3"
    },
    "language_info": {
      "name": "python"
    }
  },
  "cells": [
    {
      "cell_type": "markdown",
      "source": [
        "Berikut ini adalah tahapan menganalisis sebuah data yang diperoleh dari Kaggle tentang kaitan antara luasan area toko dengan potensi kedatangan jumlah customer serta potensi penjualan yang terjadi di toko tersebut. \n",
        "\n",
        "Sumber data:\n",
        "https://www.kaggle.com/datasets/surajjha101/stores-area-and-sales-data/code\n",
        "\n",
        "Tahapan analisis data terdiri dari 2 langkah utama, yakni (1) membuat dataset & library serta (2) melakukan analisis data. \n",
        "\n"
      ],
      "metadata": {
        "id": "k5FyEDsfkUZo"
      }
    },
    {
      "cell_type": "markdown",
      "source": [
        "#SET UP DATASET & LIBRARY\n",
        "\n",
        "Pada tahap ini dilakukan 3 subtahap:\n",
        "1. Quick look, yakni untuk melihat jenis data secara general serta jumlah baris dan kolomnya\n",
        "2. Duplicate value, yakni untuk mengidentifikasi jika ada data ganda pada sumber data\n",
        "3. Missing value, yakni untuk mengidentifikasi jika ada data hilang pada sumber data"
      ],
      "metadata": {
        "id": "GDMJ8Jscervi"
      }
    },
    {
      "cell_type": "code",
      "execution_count": 17,
      "metadata": {
        "id": "1LnP0T6wXXf1"
      },
      "outputs": [],
      "source": [
        "import pandas as pd\n",
        "import numpy as np\n",
        "import matplotlib.pyplot as plt\n",
        "import seaborn as sns"
      ]
    },
    {
      "cell_type": "markdown",
      "source": [
        "## QUICK LOOK"
      ],
      "metadata": {
        "id": "6KiYvBxxe4cv"
      }
    },
    {
      "cell_type": "code",
      "source": [
        "df = pd.read_csv('Stores.csv')"
      ],
      "metadata": {
        "id": "oz2_kfDQaCSJ"
      },
      "execution_count": 31,
      "outputs": []
    },
    {
      "cell_type": "code",
      "source": [
        "df.shape"
      ],
      "metadata": {
        "colab": {
          "base_uri": "https://localhost:8080/"
        },
        "id": "j7Z3eFlBaN8B",
        "outputId": "252e6fe8-fbc0-403d-cce1-5510a3511433"
      },
      "execution_count": 19,
      "outputs": [
        {
          "output_type": "execute_result",
          "data": {
            "text/plain": [
              "(896, 5)"
            ]
          },
          "metadata": {},
          "execution_count": 19
        }
      ]
    },
    {
      "cell_type": "code",
      "source": [
        "df.head"
      ],
      "metadata": {
        "colab": {
          "base_uri": "https://localhost:8080/"
        },
        "id": "ATc_2FQMbUqO",
        "outputId": "4fbc21b6-ad11-4eb8-eac8-23e31329185e"
      },
      "execution_count": 21,
      "outputs": [
        {
          "output_type": "execute_result",
          "data": {
            "text/plain": [
              "<bound method NDFrame.head of      Store ID   Store_Area  Items_Available  Daily_Customer_Count  Store_Sales\n",
              "0            1        1659             1961                   530        66490\n",
              "1            2        1461             1752                   210        39820\n",
              "2            3        1340             1609                   720        54010\n",
              "3            4        1451             1748                   620        53730\n",
              "4            5        1770             2111                   450        46620\n",
              "..         ...         ...              ...                   ...          ...\n",
              "891        892        1582             1910                  1080        66390\n",
              "892        893        1387             1663                   850        82080\n",
              "893        894        1200             1436                  1060        76440\n",
              "894        895        1299             1560                   770        96610\n",
              "895        896        1174             1429                  1110        54340\n",
              "\n",
              "[896 rows x 5 columns]>"
            ]
          },
          "metadata": {},
          "execution_count": 21
        }
      ]
    },
    {
      "cell_type": "code",
      "source": [
        "df.info()"
      ],
      "metadata": {
        "colab": {
          "base_uri": "https://localhost:8080/"
        },
        "id": "e00oKHyJbpTA",
        "outputId": "75e44a1b-3b5c-4ac3-cef9-cbd509a9e296"
      },
      "execution_count": 22,
      "outputs": [
        {
          "output_type": "stream",
          "name": "stdout",
          "text": [
            "<class 'pandas.core.frame.DataFrame'>\n",
            "RangeIndex: 896 entries, 0 to 895\n",
            "Data columns (total 5 columns):\n",
            " #   Column                Non-Null Count  Dtype\n",
            "---  ------                --------------  -----\n",
            " 0   Store ID              896 non-null    int64\n",
            " 1   Store_Area            896 non-null    int64\n",
            " 2   Items_Available       896 non-null    int64\n",
            " 3   Daily_Customer_Count  896 non-null    int64\n",
            " 4   Store_Sales           896 non-null    int64\n",
            "dtypes: int64(5)\n",
            "memory usage: 35.1 KB\n"
          ]
        }
      ]
    },
    {
      "cell_type": "markdown",
      "source": [
        "Simpulan dari tahapan quicklook: \n",
        "- Semua data berjenis integer\n",
        "- Sumber data terdiri dari 896 baris dan 5 kolom"
      ],
      "metadata": {
        "id": "DPDC0MwpmvZP"
      }
    },
    {
      "cell_type": "markdown",
      "source": [
        "##DUPLICATE VALUE"
      ],
      "metadata": {
        "id": "JS0sRq_OfBdE"
      }
    },
    {
      "cell_type": "code",
      "source": [
        "df.duplicated().sum()"
      ],
      "metadata": {
        "colab": {
          "base_uri": "https://localhost:8080/"
        },
        "id": "VVcOevEIcTjW",
        "outputId": "f8fc491e-1db0-4458-a3f6-198f4011c4eb"
      },
      "execution_count": 23,
      "outputs": [
        {
          "output_type": "execute_result",
          "data": {
            "text/plain": [
              "0"
            ]
          },
          "metadata": {},
          "execution_count": 23
        }
      ]
    },
    {
      "cell_type": "markdown",
      "source": [
        "Simpulan tahapan duplicate value:\n",
        "Tidak ada data ganda. "
      ],
      "metadata": {
        "id": "-7jAI36KnCkw"
      }
    },
    {
      "cell_type": "markdown",
      "source": [
        "## MISSING VALUE"
      ],
      "metadata": {
        "id": "9dlLzKM8fJKX"
      }
    },
    {
      "cell_type": "code",
      "source": [
        "df.isnull().sum()"
      ],
      "metadata": {
        "colab": {
          "base_uri": "https://localhost:8080/"
        },
        "id": "lpvRn0uFeCzi",
        "outputId": "614f26ef-369d-4b6a-e66b-2857833fec6e"
      },
      "execution_count": 24,
      "outputs": [
        {
          "output_type": "execute_result",
          "data": {
            "text/plain": [
              "Store ID                0\n",
              "Store_Area              0\n",
              "Items_Available         0\n",
              "Daily_Customer_Count    0\n",
              "Store_Sales             0\n",
              "dtype: int64"
            ]
          },
          "metadata": {},
          "execution_count": 24
        }
      ]
    },
    {
      "cell_type": "markdown",
      "source": [
        "Simpulan tahapan missing value:\n",
        "Tidak ada data hilang."
      ],
      "metadata": {
        "id": "xrEoxqfznMvv"
      }
    },
    {
      "cell_type": "markdown",
      "source": [
        "# DATA ANALYSIS\n",
        "\n",
        "Pada tahap ini data mulai dianalisis untuk menghasilkan insight yang dapat bermanfaat untuk bisnis, yakni dengan melakukan analisis korelasi. "
      ],
      "metadata": {
        "id": "KCERW8M0f7mH"
      }
    },
    {
      "cell_type": "code",
      "source": [
        "df.max()"
      ],
      "metadata": {
        "colab": {
          "base_uri": "https://localhost:8080/"
        },
        "id": "omtfDJdMWapz",
        "outputId": "dcdbec86-e040-4639-fcea-ac3004bcaa36"
      },
      "execution_count": 33,
      "outputs": [
        {
          "output_type": "execute_result",
          "data": {
            "text/plain": [
              "Store ID                   896\n",
              "Store_Area                2229\n",
              "Items_Available           2667\n",
              "Daily_Customer_Count      1560\n",
              "Store_Sales             116320\n",
              "dtype: int64"
            ]
          },
          "metadata": {},
          "execution_count": 33
        }
      ]
    },
    {
      "cell_type": "code",
      "source": [
        "df.corr()"
      ],
      "metadata": {
        "colab": {
          "base_uri": "https://localhost:8080/",
          "height": 230
        },
        "id": "Zfg354d4ZJ66",
        "outputId": "8fbd252f-bbb7-402f-f69e-d3894bfccb0f"
      },
      "execution_count": 34,
      "outputs": [
        {
          "output_type": "execute_result",
          "data": {
            "text/plain": [
              "                      Store ID   Store_Area  Items_Available  \\\n",
              "Store ID               1.000000   -0.058705        -0.055707   \n",
              "Store_Area            -0.058705    1.000000         0.998891   \n",
              "Items_Available       -0.055707    0.998891         1.000000   \n",
              "Daily_Customer_Count  -0.010029   -0.041423        -0.040978   \n",
              "Store_Sales            0.071486    0.097474         0.098849   \n",
              "\n",
              "                      Daily_Customer_Count  Store_Sales  \n",
              "Store ID                         -0.010029     0.071486  \n",
              "Store_Area                       -0.041423     0.097474  \n",
              "Items_Available                  -0.040978     0.098849  \n",
              "Daily_Customer_Count              1.000000     0.008629  \n",
              "Store_Sales                       0.008629     1.000000  "
            ],
            "text/html": [
              "\n",
              "  <div id=\"df-0f0d1d58-9585-49cf-a622-3a862098c255\">\n",
              "    <div class=\"colab-df-container\">\n",
              "      <div>\n",
              "<style scoped>\n",
              "    .dataframe tbody tr th:only-of-type {\n",
              "        vertical-align: middle;\n",
              "    }\n",
              "\n",
              "    .dataframe tbody tr th {\n",
              "        vertical-align: top;\n",
              "    }\n",
              "\n",
              "    .dataframe thead th {\n",
              "        text-align: right;\n",
              "    }\n",
              "</style>\n",
              "<table border=\"1\" class=\"dataframe\">\n",
              "  <thead>\n",
              "    <tr style=\"text-align: right;\">\n",
              "      <th></th>\n",
              "      <th>Store ID</th>\n",
              "      <th>Store_Area</th>\n",
              "      <th>Items_Available</th>\n",
              "      <th>Daily_Customer_Count</th>\n",
              "      <th>Store_Sales</th>\n",
              "    </tr>\n",
              "  </thead>\n",
              "  <tbody>\n",
              "    <tr>\n",
              "      <th>Store ID</th>\n",
              "      <td>1.000000</td>\n",
              "      <td>-0.058705</td>\n",
              "      <td>-0.055707</td>\n",
              "      <td>-0.010029</td>\n",
              "      <td>0.071486</td>\n",
              "    </tr>\n",
              "    <tr>\n",
              "      <th>Store_Area</th>\n",
              "      <td>-0.058705</td>\n",
              "      <td>1.000000</td>\n",
              "      <td>0.998891</td>\n",
              "      <td>-0.041423</td>\n",
              "      <td>0.097474</td>\n",
              "    </tr>\n",
              "    <tr>\n",
              "      <th>Items_Available</th>\n",
              "      <td>-0.055707</td>\n",
              "      <td>0.998891</td>\n",
              "      <td>1.000000</td>\n",
              "      <td>-0.040978</td>\n",
              "      <td>0.098849</td>\n",
              "    </tr>\n",
              "    <tr>\n",
              "      <th>Daily_Customer_Count</th>\n",
              "      <td>-0.010029</td>\n",
              "      <td>-0.041423</td>\n",
              "      <td>-0.040978</td>\n",
              "      <td>1.000000</td>\n",
              "      <td>0.008629</td>\n",
              "    </tr>\n",
              "    <tr>\n",
              "      <th>Store_Sales</th>\n",
              "      <td>0.071486</td>\n",
              "      <td>0.097474</td>\n",
              "      <td>0.098849</td>\n",
              "      <td>0.008629</td>\n",
              "      <td>1.000000</td>\n",
              "    </tr>\n",
              "  </tbody>\n",
              "</table>\n",
              "</div>\n",
              "      <button class=\"colab-df-convert\" onclick=\"convertToInteractive('df-0f0d1d58-9585-49cf-a622-3a862098c255')\"\n",
              "              title=\"Convert this dataframe to an interactive table.\"\n",
              "              style=\"display:none;\">\n",
              "        \n",
              "  <svg xmlns=\"http://www.w3.org/2000/svg\" height=\"24px\"viewBox=\"0 0 24 24\"\n",
              "       width=\"24px\">\n",
              "    <path d=\"M0 0h24v24H0V0z\" fill=\"none\"/>\n",
              "    <path d=\"M18.56 5.44l.94 2.06.94-2.06 2.06-.94-2.06-.94-.94-2.06-.94 2.06-2.06.94zm-11 1L8.5 8.5l.94-2.06 2.06-.94-2.06-.94L8.5 2.5l-.94 2.06-2.06.94zm10 10l.94 2.06.94-2.06 2.06-.94-2.06-.94-.94-2.06-.94 2.06-2.06.94z\"/><path d=\"M17.41 7.96l-1.37-1.37c-.4-.4-.92-.59-1.43-.59-.52 0-1.04.2-1.43.59L10.3 9.45l-7.72 7.72c-.78.78-.78 2.05 0 2.83L4 21.41c.39.39.9.59 1.41.59.51 0 1.02-.2 1.41-.59l7.78-7.78 2.81-2.81c.8-.78.8-2.07 0-2.86zM5.41 20L4 18.59l7.72-7.72 1.47 1.35L5.41 20z\"/>\n",
              "  </svg>\n",
              "      </button>\n",
              "      \n",
              "  <style>\n",
              "    .colab-df-container {\n",
              "      display:flex;\n",
              "      flex-wrap:wrap;\n",
              "      gap: 12px;\n",
              "    }\n",
              "\n",
              "    .colab-df-convert {\n",
              "      background-color: #E8F0FE;\n",
              "      border: none;\n",
              "      border-radius: 50%;\n",
              "      cursor: pointer;\n",
              "      display: none;\n",
              "      fill: #1967D2;\n",
              "      height: 32px;\n",
              "      padding: 0 0 0 0;\n",
              "      width: 32px;\n",
              "    }\n",
              "\n",
              "    .colab-df-convert:hover {\n",
              "      background-color: #E2EBFA;\n",
              "      box-shadow: 0px 1px 2px rgba(60, 64, 67, 0.3), 0px 1px 3px 1px rgba(60, 64, 67, 0.15);\n",
              "      fill: #174EA6;\n",
              "    }\n",
              "\n",
              "    [theme=dark] .colab-df-convert {\n",
              "      background-color: #3B4455;\n",
              "      fill: #D2E3FC;\n",
              "    }\n",
              "\n",
              "    [theme=dark] .colab-df-convert:hover {\n",
              "      background-color: #434B5C;\n",
              "      box-shadow: 0px 1px 3px 1px rgba(0, 0, 0, 0.15);\n",
              "      filter: drop-shadow(0px 1px 2px rgba(0, 0, 0, 0.3));\n",
              "      fill: #FFFFFF;\n",
              "    }\n",
              "  </style>\n",
              "\n",
              "      <script>\n",
              "        const buttonEl =\n",
              "          document.querySelector('#df-0f0d1d58-9585-49cf-a622-3a862098c255 button.colab-df-convert');\n",
              "        buttonEl.style.display =\n",
              "          google.colab.kernel.accessAllowed ? 'block' : 'none';\n",
              "\n",
              "        async function convertToInteractive(key) {\n",
              "          const element = document.querySelector('#df-0f0d1d58-9585-49cf-a622-3a862098c255');\n",
              "          const dataTable =\n",
              "            await google.colab.kernel.invokeFunction('convertToInteractive',\n",
              "                                                     [key], {});\n",
              "          if (!dataTable) return;\n",
              "\n",
              "          const docLinkHtml = 'Like what you see? Visit the ' +\n",
              "            '<a target=\"_blank\" href=https://colab.research.google.com/notebooks/data_table.ipynb>data table notebook</a>'\n",
              "            + ' to learn more about interactive tables.';\n",
              "          element.innerHTML = '';\n",
              "          dataTable['output_type'] = 'display_data';\n",
              "          await google.colab.output.renderOutput(dataTable, element);\n",
              "          const docLink = document.createElement('div');\n",
              "          docLink.innerHTML = docLinkHtml;\n",
              "          element.appendChild(docLink);\n",
              "        }\n",
              "      </script>\n",
              "    </div>\n",
              "  </div>\n",
              "  "
            ]
          },
          "metadata": {},
          "execution_count": 34
        }
      ]
    },
    {
      "cell_type": "markdown",
      "source": [
        "#CONCLUSION\n",
        "\n",
        "1. Adanya korelasi positif hampir sempurna antara store area dan item availability. Hal ini menunjukkan bahwa semakin besar area/luasan toko, maka item/barang yang diperjualbelikan di toko tersebut semakin banyak. \n",
        "\n",
        "2. Hampir tidak ada korelasi antara luasnya area toko dengan jumlah customer harian yang datang dan penjualan toko. Artinya, area toko yg semakin luas tidak menjamin peningkatan pelanggan dan penjualan toko. "
      ],
      "metadata": {
        "id": "raqCUvbVa3ar"
      }
    }
  ]
}